{
  "nbformat": 4,
  "nbformat_minor": 0,
  "metadata": {
    "colab": {
      "provenance": []
    },
    "kernelspec": {
      "name": "python3",
      "display_name": "Python 3"
    },
    "language_info": {
      "name": "python"
    }
  },
  "cells": [
    {
      "cell_type": "markdown",
      "source": [
        "# Deep CNN Image Classification"
      ],
      "metadata": {
        "id": "M0HpqIAPiUcm"
      }
    },
    {
      "cell_type": "code",
      "execution_count": 1,
      "metadata": {
        "id": "ESSWuuPMG7Je"
      },
      "outputs": [],
      "source": [
        "import tensorflow as tf\n",
        "from tensorflow.keras import datasets, layers, models\n",
        "import matplotlib.pyplot as plt\n",
        "import numpy as np"
      ]
    },
    {
      "cell_type": "code",
      "source": [
        "(X_train, y_train), (X_test, y_test) = datasets.cifar10.load_data()\n",
        "X_train.shape"
      ],
      "metadata": {
        "colab": {
          "base_uri": "https://localhost:8080/"
        },
        "id": "JLQOF-_XG-yS",
        "outputId": "e7c4c88b-5893-4423-de8f-6cd6d2ab4231"
      },
      "execution_count": 25,
      "outputs": [
        {
          "output_type": "execute_result",
          "data": {
            "text/plain": [
              "(50000, 32, 32, 3)"
            ]
          },
          "metadata": {},
          "execution_count": 25
        }
      ]
    },
    {
      "cell_type": "code",
      "source": [
        "X_test.shape"
      ],
      "metadata": {
        "colab": {
          "base_uri": "https://localhost:8080/"
        },
        "id": "VAc0l6OKHyAp",
        "outputId": "9506b7a5-bf8c-4399-a648-d60784d0b936"
      },
      "execution_count": 26,
      "outputs": [
        {
          "output_type": "execute_result",
          "data": {
            "text/plain": [
              "(10000, 32, 32, 3)"
            ]
          },
          "metadata": {},
          "execution_count": 26
        }
      ]
    },
    {
      "cell_type": "code",
      "source": [
        "# Define a list called \"classes\" which holds the labels of the image in the dataset, in accordance with their index value\n",
        "classes = [\"airplane\",\"automobile\",\"bird\",\"cat\",\"deer\",\"dog\",\"frog\",\"horse\",\"ship\",\"truck\"]"
      ],
      "metadata": {
        "id": "EUTdYL4TIwbz"
      },
      "execution_count": 27,
      "outputs": []
    },
    {
      "cell_type": "code",
      "source": [
        "# Need to reshape y_train to correspond with X_train, turn it into a 1D array from a 2D array using numpy.reshape()\n",
        "y_train[:5]\n",
        "X_train[:5]\n",
        "\n",
        "y_train = y_train.reshape(-1,)\n",
        "y_train[:5]"
      ],
      "metadata": {
        "colab": {
          "base_uri": "https://localhost:8080/"
        },
        "id": "SZNBMfp1KhlJ",
        "outputId": "9b72e7c4-a70a-4193-abfc-ff142f6829bc"
      },
      "execution_count": 28,
      "outputs": [
        {
          "output_type": "execute_result",
          "data": {
            "text/plain": [
              "array([6, 9, 9, 4, 1], dtype=uint8)"
            ]
          },
          "metadata": {},
          "execution_count": 28
        }
      ]
    },
    {
      "cell_type": "code",
      "source": [
        "# The function takes in an index, and returns an image represented by the values at that index\n",
        "def plot_sample(X,y,index):\n",
        "  plt.figure(figsize = (15,2))\n",
        "  plt.imshow(X_train[index])\n",
        "  plt.xlabel(classes[y[index]])"
      ],
      "metadata": {
        "id": "J_MSEzVPH18i"
      },
      "execution_count": 29,
      "outputs": []
    },
    {
      "cell_type": "code",
      "source": [
        "plot_sample(X_train, y_train, 0)"
      ],
      "metadata": {
        "colab": {
          "base_uri": "https://localhost:8080/",
          "height": 237
        },
        "id": "RvKDQ9DNIAX9",
        "outputId": "9de26910-e3fb-414e-910f-680c5e471a09"
      },
      "execution_count": 13,
      "outputs": [
        {
          "output_type": "display_data",
          "data": {
            "text/plain": [
              "<Figure size 1500x200 with 1 Axes>"
            ],
            "image/png": "[encoded data removed]"
          },
          "metadata": {}
        }
      ]
    },
    {
      "cell_type": "code",
      "source": [
        "plot_sample(X_train, y_train, 1)"
      ],
      "metadata": {
        "colab": {
          "base_uri": "https://localhost:8080/",
          "height": 237
        },
        "id": "3_HTMPn9LZhY",
        "outputId": "bf35ee41-8de6-44ed-8ee1-f2ed51a28357"
      },
      "execution_count": 15,
      "outputs": [
        {
          "output_type": "display_data",
          "data": {
            "text/plain": [
              "<Figure size 1500x200 with 1 Axes>"
            ],
            "image/png": "[encoded data removed]"
          },
          "metadata": {}
        }
      ]
    },
    {
      "cell_type": "code",
      "source": [
        "plot_sample(X_train, y_train, 3)"
      ],
      "metadata": {
        "colab": {
          "base_uri": "https://localhost:8080/",
          "height": 237
        },
        "id": "EqceDQGsLb9i",
        "outputId": "a0969ed8-d6cd-4cd6-9fce-507df4f5a5a3"
      },
      "execution_count": 16,
      "outputs": [
        {
          "output_type": "display_data",
          "data": {
            "text/plain": [
              "<Figure size 1500x200 with 1 Axes>"
            ],
            "image/png": "[encoded data removed]"
          },
          "metadata": {}
        }
      ]
    },
    {
      "cell_type": "code",
      "source": [
        "# Normalize RGB values by dividing by 255\n",
        "X_train = X_train/255\n",
        "X_test = X_test/255"
      ],
      "metadata": {
        "id": "jWE85EkcLjRd"
      },
      "execution_count": 30,
      "outputs": []
    },
    {
      "cell_type": "code",
      "source": [
        "# Initialize an Artifical Neural Network model and add the network layers\n",
        "ann = models.Sequential([\n",
        "    layers.Flatten(input_shape=(32,32,3)),\n",
        "    layers.Dense(3000, activation = 'relu'),\n",
        "    layers.Dense(1000, activation = 'relu'),\n",
        "    layers.Dense(10, activation = 'sigmoid')\n",
        "])\n",
        "\n",
        "# Compile the model\n",
        "ann.compile(optimizer='SGD',\n",
        "            loss = \"sparse_categorical_crossentropy\",\n",
        "            metrics = ['accuracy'])"
      ],
      "metadata": {
        "id": "EXSvdU1KPN18"
      },
      "execution_count": 33,
      "outputs": []
    },
    {
      "cell_type": "code",
      "source": [
        "# Train the model\n",
        "ann.fit(X_train, y_train, epochs = 5)"
      ],
      "metadata": {
        "colab": {
          "base_uri": "https://localhost:8080/"
        },
        "id": "T4LXonf5QqlV",
        "outputId": "b2863ba8-adb6-4a0a-b734-185acdb4622a"
      },
      "execution_count": 34,
      "outputs": [
        {
          "output_type": "stream",
          "name": "stdout",
          "text": [
            "Epoch 1/5\n",
            "1563/1563 [==============================] - 152s 97ms/step - loss: 1.8121 - accuracy: 0.3548\n",
            "Epoch 2/5\n",
            "1563/1563 [==============================] - 152s 97ms/step - loss: 1.6243 - accuracy: 0.4285\n",
            "Epoch 3/5\n",
            "1563/1563 [==============================] - 151s 97ms/step - loss: 1.5400 - accuracy: 0.4592\n",
            "Epoch 4/5\n",
            "1563/1563 [==============================] - 143s 92ms/step - loss: 1.4832 - accuracy: 0.4775\n",
            "Epoch 5/5\n",
            "1563/1563 [==============================] - 144s 92ms/step - loss: 1.4320 - accuracy: 0.4958\n"
          ]
        },
        {
          "output_type": "execute_result",
          "data": {
            "text/plain": [
              "<keras.src.callbacks.History at 0x7fd6983dae30>"
            ]
          },
          "metadata": {},
          "execution_count": 34
        }
      ]
    },
    {
      "cell_type": "code",
      "source": [
        "# Print a classification report on the predicted test data\n",
        "from sklearn.metrics import confusion_matrix, classification_report\n",
        "import numpy as np\n",
        "y_pred = ann.predict(X_test)\n",
        "y_pred_classes = [np.argmax(element) for element in y_pred]\n",
        "\n",
        "print(\"Classification Report: \\n\", classification_report(y_test, y_pred_classes))"
      ],
      "metadata": {
        "colab": {
          "base_uri": "https://localhost:8080/"
        },
        "id": "NlGY4PVhUoQX",
        "outputId": "4b0dbecf-93b6-43cf-ebd0-388eb7202b09"
      },
      "execution_count": 36,
      "outputs": [
        {
          "output_type": "stream",
          "name": "stdout",
          "text": [
            "313/313 [==============================] - 11s 35ms/step\n",
            "Classification Report: \n",
            "               precision    recall  f1-score   support\n",
            "\n",
            "           0       0.70      0.29      0.41      1000\n",
            "           1       0.74      0.27      0.40      1000\n",
            "           2       0.47      0.19      0.27      1000\n",
            "           3       0.37      0.36      0.37      1000\n",
            "           4       0.32      0.63      0.43      1000\n",
            "           5       0.53      0.22      0.31      1000\n",
            "           6       0.54      0.50      0.52      1000\n",
            "           7       0.51      0.58      0.54      1000\n",
            "           8       0.35      0.85      0.50      1000\n",
            "           9       0.52      0.52      0.52      1000\n",
            "\n",
            "    accuracy                           0.44     10000\n",
            "   macro avg       0.51      0.44      0.43     10000\n",
            "weighted avg       0.51      0.44      0.43     10000\n",
            "\n"
          ]
        }
      ]
    },
    {
      "cell_type": "code",
      "source": [
        "# Note that the ANN resulting accuracy was not very high. We can do better with a Deep CNN.\n",
        "# To be clear, the following is the difference between the ANN above and the CNN below:\n",
        "# A CNN will detect image features, and have increased accuracy. It has additional CNN layers on top of the Dense layers already in an ANN,\n",
        "# as well as a pooling layer.\n",
        "\n",
        "# Initialize a Convolutional Neural Network model and add the network layers\n",
        "cnn = models.Sequential([\n",
        "    # CNN Layers\n",
        "    layers.Conv2D(filters=32, kernel_size=(3,3), activation = 'relu', input_shape=(32,32,3)),\n",
        "    layers.MaxPooling2D((2,2)),\n",
        "\n",
        "    layers.Conv2D(filters=64, kernel_size=(3,3), activation = 'relu'),\n",
        "    layers.MaxPooling2D((2,2)),\n",
        "\n",
        "    # Dense Layers\n",
        "    layers.Flatten(),\n",
        "    layers.Dense(64, activation = 'relu'),\n",
        "    layers.Dense(10, activation = 'softmax')  # Softmax activation will normalize to a probability\n",
        "])"
      ],
      "metadata": {
        "id": "M6ok1FvgVXKQ"
      },
      "execution_count": 71,
      "outputs": []
    },
    {
      "cell_type": "code",
      "source": [
        "# Now, compile the CNN model\n",
        "cnn.compile( optimizer='adam',\n",
        "              loss = 'sparse_categorical_crossentropy',\n",
        "               metrics=['accuracy'])"
      ],
      "metadata": {
        "id": "NXooaAB1Xww-"
      },
      "execution_count": 72,
      "outputs": []
    },
    {
      "cell_type": "code",
      "source": [
        "# Now, train the CNN model\n",
        "cnn.fit(X_train, y_train, epochs=10)"
      ],
      "metadata": {
        "colab": {
          "base_uri": "https://localhost:8080/"
        },
        "id": "ld1PcT2AYHYW",
        "outputId": "2b190c3b-6b38-48df-dc58-ac9ffceae655"
      },
      "execution_count": 73,
      "outputs": [
        {
          "output_type": "stream",
          "name": "stdout",
          "text": [
            "Epoch 1/10\n",
            "1563/1563 [==============================] - 67s 43ms/step - loss: 1.4604 - accuracy: 0.4760\n",
            "Epoch 2/10\n",
            "1563/1563 [==============================] - 65s 41ms/step - loss: 1.1114 - accuracy: 0.6096\n",
            "Epoch 3/10\n",
            "1563/1563 [==============================] - 63s 40ms/step - loss: 0.9726 - accuracy: 0.6624\n",
            "Epoch 4/10\n",
            "1563/1563 [==============================] - 61s 39ms/step - loss: 0.8846 - accuracy: 0.6918\n",
            "Epoch 5/10\n",
            "1563/1563 [==============================] - 64s 41ms/step - loss: 0.8180 - accuracy: 0.7149\n",
            "Epoch 6/10\n",
            "1563/1563 [==============================] - 63s 40ms/step - loss: 0.7558 - accuracy: 0.7362\n",
            "Epoch 7/10\n",
            "1563/1563 [==============================] - 62s 40ms/step - loss: 0.6995 - accuracy: 0.7567\n",
            "Epoch 8/10\n",
            "1563/1563 [==============================] - 62s 39ms/step - loss: 0.6483 - accuracy: 0.7738\n",
            "Epoch 9/10\n",
            "1563/1563 [==============================] - 64s 41ms/step - loss: 0.6033 - accuracy: 0.7887\n",
            "Epoch 10/10\n",
            "1563/1563 [==============================] - 65s 42ms/step - loss: 0.5621 - accuracy: 0.8028\n"
          ]
        },
        {
          "output_type": "execute_result",
          "data": {
            "text/plain": [
              "<keras.src.callbacks.History at 0x7fd687a700d0>"
            ]
          },
          "metadata": {},
          "execution_count": 73
        }
      ]
    },
    {
      "cell_type": "code",
      "source": [
        "# As seen above, a CNN model within 5 epochs reached 70% accuracy, while an ANN model with the same data reached 50% accuracy\n",
        "cnn.evaluate(X_test, y_test)"
      ],
      "metadata": {
        "colab": {
          "base_uri": "https://localhost:8080/"
        },
        "id": "v1XNmuNSalV0",
        "outputId": "86ccb1ce-2cc5-411c-f332-aeab5b1493eb"
      },
      "execution_count": 74,
      "outputs": [
        {
          "output_type": "stream",
          "name": "stdout",
          "text": [
            "313/313 [==============================] - 4s 12ms/step - loss: 0.9831 - accuracy: 0.6898\n"
          ]
        },
        {
          "output_type": "execute_result",
          "data": {
            "text/plain": [
              "[0.9830938577651978, 0.6898000240325928]"
            ]
          },
          "metadata": {},
          "execution_count": 74
        }
      ]
    },
    {
      "cell_type": "code",
      "source": [
        "y_test = y_test.reshape(-1,)\n",
        "plot_sample(X_test, y_test,1)"
      ],
      "metadata": {
        "colab": {
          "base_uri": "https://localhost:8080/",
          "height": 237
        },
        "id": "odDGdmhLa39j",
        "outputId": "657da7c3-4fb4-4cbe-c377-49530c5f68be"
      },
      "execution_count": 75,
      "outputs": [
        {
          "output_type": "display_data",
          "data": {
            "text/plain": [
              "<Figure size 1500x200 with 1 Axes>"
            ],
            "image/png": "[encoded data removed]"
          },
          "metadata": {}
        }
      ]
    },
    {
      "cell_type": "code",
      "source": [
        "# Model prediction result is given as probability values (recall the softmax dense layer used). Use argmax to correct this\n",
        "y_pred = cnn.predict(X_test)\n",
        "y_pred[:5]"
      ],
      "metadata": {
        "colab": {
          "base_uri": "https://localhost:8080/"
        },
        "id": "WgU-uf7kbS5K",
        "outputId": "5ba0dc68-e74b-4577-8dee-f42bde716310"
      },
      "execution_count": 76,
      "outputs": [
        {
          "output_type": "stream",
          "name": "stdout",
          "text": [
            "313/313 [==============================] - 4s 12ms/step\n"
          ]
        },
        {
          "output_type": "execute_result",
          "data": {
            "text/plain": [
              "array([[9.82810510e-04, 2.56631465e-04, 2.81446264e-04, 9.73780930e-01,\n",
              "        6.37542762e-05, 1.89661216e-02, 8.74452526e-04, 7.84343923e-04,\n",
              "        4.00894182e-03, 4.33041606e-07],\n",
              "       [1.04537010e-02, 3.18563372e-01, 1.59850178e-08, 8.24754764e-10,\n",
              "        1.60416888e-10, 1.03078015e-11, 1.38933087e-10, 6.70950014e-12,\n",
              "        6.70800209e-01, 1.82606716e-04],\n",
              "       [1.99115172e-01, 2.97601938e-01, 1.15123046e-04, 5.05432545e-04,\n",
              "        3.32038144e-05, 1.87733112e-05, 3.49918773e-05, 1.74135148e-05,\n",
              "        4.80635762e-01, 2.19222549e-02],\n",
              "       [9.61049080e-01, 5.15649468e-03, 7.51101784e-03, 6.72159891e-04,\n",
              "        5.66379284e-04, 5.42225007e-06, 6.18629144e-07, 2.95873633e-05,\n",
              "        2.27664653e-02, 2.24255631e-03],\n",
              "       [3.15362342e-07, 4.73271666e-06, 6.33040024e-03, 1.09158093e-02,\n",
              "        4.55852717e-01, 3.00970394e-03, 5.23879766e-01, 3.95227016e-06,\n",
              "        2.56064118e-06, 1.72159904e-08]], dtype=float32)"
            ]
          },
          "metadata": {},
          "execution_count": 76
        }
      ]
    },
    {
      "cell_type": "code",
      "source": [
        "# np.argmax takes in an array, returns the index of the max value\n",
        "# So for the below line, it would return 1, as the highest value is at index 1 (12)\n",
        "np.argmax([5,12,1,2])"
      ],
      "metadata": {
        "colab": {
          "base_uri": "https://localhost:8080/"
        },
        "id": "U8JiC1kvb1OT",
        "outputId": "5ab23789-05cd-4831-f430-db4ae8a14646"
      },
      "execution_count": 77,
      "outputs": [
        {
          "output_type": "execute_result",
          "data": {
            "text/plain": [
              "1"
            ]
          },
          "metadata": {},
          "execution_count": 77
        }
      ]
    },
    {
      "cell_type": "code",
      "source": [
        "# Use argmax as an argument in y_classes, to get the predicted value which is associated \"class\" or type of picture\n",
        "# Note that each of the 10 image categories are numbered according to the index in the classes list\n",
        "# Also recall that cnn.predict returns an array of values which are represented as probabilities (due to the softmax layer)\n",
        "# Since these probabilities are ordered values, np.argmax is used to find the index of the highest number (therefore highest probability of the image being the predicted result)\n",
        "# With argmax, we can use it to get the index of the classes list, and thus, return the predicted label of the image\n",
        "classes = [\"airplane\",\"automobile\",\"bird\",\"cat\",\"deer\",\"dog\",\"frog\",\"horse\",\"ship\",\"truck\"]\n",
        "y_classes = [np.argmax(element) for element in y_pred]\n",
        "y_classes[:5]"
      ],
      "metadata": {
        "colab": {
          "base_uri": "https://localhost:8080/"
        },
        "id": "QqIYpMIVcFA5",
        "outputId": "a93b513e-6fcf-48e3-ebaa-d94db578d7ca"
      },
      "execution_count": 78,
      "outputs": [
        {
          "output_type": "execute_result",
          "data": {
            "text/plain": [
              "[3, 8, 8, 0, 6]"
            ]
          },
          "metadata": {},
          "execution_count": 78
        }
      ]
    },
    {
      "cell_type": "code",
      "source": [
        "y_test[:5]"
      ],
      "metadata": {
        "colab": {
          "base_uri": "https://localhost:8080/"
        },
        "id": "Eb9aEn2vdC66",
        "outputId": "2460f834-cb88-4feb-e31f-15b20615ffce"
      },
      "execution_count": 79,
      "outputs": [
        {
          "output_type": "execute_result",
          "data": {
            "text/plain": [
              "array([3, 8, 8, 0, 6], dtype=uint8)"
            ]
          },
          "metadata": {},
          "execution_count": 79
        }
      ]
    },
    {
      "cell_type": "code",
      "source": [
        "plot_sample(X_test, y_test, 3)"
      ],
      "metadata": {
        "colab": {
          "base_uri": "https://localhost:8080/",
          "height": 237
        },
        "id": "Hvu2dqNjdlk-",
        "outputId": "fa3ea9ae-feb3-4db8-9d21-2d148c9f0d6a"
      },
      "execution_count": 81,
      "outputs": [
        {
          "output_type": "display_data",
          "data": {
            "text/plain": [
              "<Figure size 1500x200 with 1 Axes>"
            ],
            "image/png": "[encoded data removed]"
          },
          "metadata": {}
        }
      ]
    },
    {
      "cell_type": "code",
      "source": [
        "classes[y_classes[3]]"
      ],
      "metadata": {
        "colab": {
          "base_uri": "https://localhost:8080/",
          "height": 35
        },
        "id": "mBsH1Z6aeWIs",
        "outputId": "e7ab787a-3c7b-4595-85a3-ebdc36ad9b0f"
      },
      "execution_count": 82,
      "outputs": [
        {
          "output_type": "execute_result",
          "data": {
            "text/plain": [
              "'airplane'"
            ],
            "application/vnd.google.colaboratory.intrinsic+json": {
              "type": "string"
            }
          },
          "metadata": {},
          "execution_count": 82
        }
      ]
    },
    {
      "cell_type": "markdown",
      "source": [
        "Please note: Despite the error in mismatched data, it seems that the predicted results from the model are in line with the test data"
      ],
      "metadata": {
        "id": "QQi39Mh8iH_O"
      }
    },
    {
      "cell_type": "code",
      "source": [],
      "metadata": {
        "id": "Aahqs2LuiTEi"
      },
      "execution_count": null,
      "outputs": []
    }
  ]
}